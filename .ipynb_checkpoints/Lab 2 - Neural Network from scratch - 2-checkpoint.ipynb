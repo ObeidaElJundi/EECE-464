{
 "cells": [
  {
   "cell_type": "markdown",
   "metadata": {},
   "source": [
    "### Neural networks can be intimidating, especially for people new to machine learning. There are several Neural Network libraries in Python (ex. Keras & TensorFlow) abstracting complicated details and computations (ex. matrix multiplications and Gradiend Decent). However, for educational purposes, we will build our own NN from scratch using Numpy only. This will help us break down how exactly NN works."
   ]
  },
  {
   "cell_type": "markdown",
   "metadata": {},
   "source": [
    "#### Lets build this NN:\n",
    "<img src=\"images/FeedForwardNeuralNetwork.png\" alt=\"jupyter_notebook\" title=\"jupyter_notebook\" height=\"520\" width=\"220\"/>"
   ]
  },
  {
   "cell_type": "markdown",
   "metadata": {},
   "source": [
    "### Import necessary libraries"
   ]
  },
  {
   "cell_type": "code",
   "execution_count": 1,
   "metadata": {
    "collapsed": true
   },
   "outputs": [],
   "source": [
    "import numpy as np\n",
    "import matplotlib.pyplot as plt\n",
    "\n",
    "np.random.seed(42) # to reproduce same results"
   ]
  },
  {
   "cell_type": "markdown",
   "metadata": {},
   "source": [
    "### activation function\n",
    "The output of each artificial neuron is the sum of inputs times weights passed through an activation function. There are a lot of activation functions, each has its own pros & cons...\n",
    "<img src=\"images/activation_functions.png\" alt=\"activation_functions\" title=\"activation_functions\" height=\"220\" width=\"820\"/>\n",
    "Here, we will be using Sigmoid."
   ]
  },
  {
   "cell_type": "code",
   "execution_count": 2,
   "metadata": {
    "collapsed": true
   },
   "outputs": [],
   "source": [
    "# define sigmoid and its derivative\n",
    "\n",
    "def sigmoid(x):\n",
    "    return 1 / (1 + np.exp(-x))\n",
    "\n",
    "def sigmoid_prime(x):\n",
    "    return x * (1 - x)"
   ]
  },
  {
   "cell_type": "markdown",
   "metadata": {},
   "source": [
    "### Preparing training data\n",
    "<img src=\"images/training_data.png\" alt=\"training_data\" title=\"training_data\" height=\"220\" width=\"420\"/>"
   ]
  },
  {
   "cell_type": "code",
   "execution_count": 101,
   "metadata": {},
   "outputs": [
    {
     "name": "stdout",
     "output_type": "stream",
     "text": [
      "[[  3.  18.]\n",
      " [  6.  15.]\n",
      " [  8.  12.]\n",
      " [ 10.   8.]]\n",
      "[[ 89.]\n",
      " [ 84.]\n",
      " [ 79.]\n",
      " [ 72.]]\n"
     ]
    }
   ],
   "source": [
    "# X = (hours sleeping, hours studying), y = score on test\n",
    "x = np.array(([3, 18], [6, 15], [8, 12], [10,8]), dtype=float) # 4 X 2\n",
    "y = np.array(([89.0], [84.0], [79.0], [72.0]), dtype=float) # 4 X 1\n",
    "print(x)\n",
    "print(y)"
   ]
  },
  {
   "cell_type": "markdown",
   "metadata": {},
   "source": [
    "### Normalization (scaling)\n",
    "Sometimes, the range of values of raw data varies widely. In that case, objective functions will not work properly without normalization. Normalizatoin also helps gradient descent to converge faster."
   ]
  },
  {
   "cell_type": "code",
   "execution_count": 102,
   "metadata": {},
   "outputs": [
    {
     "name": "stdout",
     "output_type": "stream",
     "text": [
      "[[ 0.125       0.75      ]\n",
      " [ 0.25        0.625     ]\n",
      " [ 0.33333333  0.5       ]\n",
      " [ 0.41666667  0.33333333]]\n",
      "[[ 0.89]\n",
      " [ 0.84]\n",
      " [ 0.79]\n",
      " [ 0.72]]\n"
     ]
    }
   ],
   "source": [
    "# normalize input only\n",
    "x /= 24\n",
    "y /= 100\n",
    "print(x)\n",
    "print(y)"
   ]
  },
  {
   "cell_type": "markdown",
   "metadata": {},
   "source": [
    "### Initialize learnable parameters: weights and biases\n",
    "usually as small random values, but 0.5 here to compare with our manual solution. Ignore bias for simplicity"
   ]
  },
  {
   "cell_type": "code",
   "execution_count": 103,
   "metadata": {
    "scrolled": true
   },
   "outputs": [
    {
     "name": "stdout",
     "output_type": "stream",
     "text": [
      "[[ 0.5  0.5  0.5]\n",
      " [ 0.5  0.5  0.5]]\n",
      "[[ 0.5]\n",
      " [ 0.5]\n",
      " [ 0.5]]\n"
     ]
    }
   ],
   "source": [
    "w1 = np.ones((2,3)) * 0.5  # 2 X 3 --> 3 neurons, each has two inputs\n",
    "w2 = np.ones((3,1)) * 0.5 # 3 X 1 --> single neuron with three inputs\n",
    "print(w1)\n",
    "print(w2)"
   ]
  },
  {
   "cell_type": "markdown",
   "metadata": {},
   "source": [
    "### Training"
   ]
  },
  {
   "cell_type": "code",
   "execution_count": 104,
   "metadata": {},
   "outputs": [
    {
     "name": "stdout",
     "output_type": "stream",
     "text": [
      "hidden_output [[ 0.60766317  0.60766317  0.60766317]\n",
      " [ 0.60766317  0.60766317  0.60766317]\n",
      " [ 0.60268534  0.60268534  0.60268534]\n",
      " [ 0.5926666   0.5926666   0.5926666 ]]\n",
      "output [[ 0.71330594]\n",
      " [ 0.71330594]\n",
      " [ 0.71177656]\n",
      " [ 0.70868374]]\n",
      "delta [[ 0.03613404]\n",
      " [ 0.02590901]\n",
      " [ 0.01604759]\n",
      " [ 0.00233625]]\n",
      "gradient [[ 0.04875754]\n",
      " [ 0.04875754]\n",
      " [ 0.04875754]]\n",
      "delta2 [[ 0.00430733  0.00430733  0.00430733]\n",
      " [ 0.00308847  0.00308847  0.00308847]\n",
      " [ 0.00192134  0.00192134  0.00192134]\n",
      " [ 0.000282    0.000282    0.000282  ]]\n",
      "gradient2 [[ 0.00206848  0.00206848  0.00206848]\n",
      " [ 0.00621546  0.00621546  0.00621546]]\n",
      "w1 [[ 0.50165479  0.50165479  0.50165479]\n",
      " [ 0.50497237  0.50497237  0.50497237]]\n",
      "w2 [[ 0.53900603]\n",
      " [ 0.53900603]\n",
      " [ 0.53900603]]\n",
      "final output: [[ 0.88348392]\n",
      " [ 0.83945802]\n",
      " [ 0.79127815]\n",
      " [ 0.7259749 ]]\n"
     ]
    }
   ],
   "source": [
    "lr = 0.8 # learning rate\n",
    "epochs = np.arange(10000)\n",
    "sse = []\n",
    "\n",
    "for i in epochs:\n",
    "\n",
    "    # feed forward\n",
    "    hidden_output = sigmoid( np.matmul(x, w1) ) # 4 X 3\n",
    "    output = sigmoid( np.matmul(hidden_output, w2) ) # 4 X 1\n",
    "    \n",
    "    error = np.sum(0.5 * (y - output)**2)\n",
    "    sse.append(error)\n",
    "\n",
    "    # backpropagation\n",
    "\n",
    "    delta = (y-output) * sigmoid_prime(output) # 4 X 1\n",
    "    #gradient = np.transpose(hidden_output.T.dot( delta )) # 1 X 3\n",
    "    gradient = np.transpose( delta.T.dot( hidden_output ) ) # 3 X 1\n",
    "    #w2 += lr * gradient # adjusting second set (hidden --> output) weights\n",
    "\n",
    "    delta2 = delta.dot(w2.T) * sigmoid_prime(hidden_output) # 4 X 3\n",
    "    gradient2 = x.T.dot(delta2) # 2 X 3\n",
    "    \n",
    "    w2 += lr * gradient # adjusting second set (hidden --> output) weights\n",
    "    w1 += lr * gradient2 # adjusting first set (input --> hidden) weights\n",
    "    \n",
    "    if i == 0:\n",
    "        print('hidden_output', hidden_output)\n",
    "        print('output', output)\n",
    "        print('delta', delta)\n",
    "        print('gradient', gradient)\n",
    "        print('delta2', delta2)\n",
    "        print('gradient2', gradient2)\n",
    "        print('w1', w1)\n",
    "        print('w2', w2)\n",
    "\n",
    "#print('w1:', w1, 'w2:', w2)\n",
    "print('final output:', output)"
   ]
  },
  {
   "cell_type": "code",
   "execution_count": 105,
   "metadata": {},
   "outputs": [
    {
     "data": {
      "image/png": "[encoded data removed]",
      "text/plain": [
       "<matplotlib.figure.Figure at 0xaced9a6f28>"
      ]
     },
     "metadata": {},
     "output_type": "display_data"
    }
   ],
   "source": [
    "plt.plot(sse)\n",
    "plt.ylabel('SSE')\n",
    "plt.xlabel('epoch')\n",
    "plt.show()"
   ]
  },
  {
   "cell_type": "code",
   "execution_count": null,
   "metadata": {
    "collapsed": true
   },
   "outputs": [],
   "source": []
  },
  {
   "cell_type": "code",
   "execution_count": null,
   "metadata": {
    "collapsed": true
   },
   "outputs": [],
   "source": []
  },
  {
   "cell_type": "code",
   "execution_count": null,
   "metadata": {
    "collapsed": true
   },
   "outputs": [],
   "source": []
  },
  {
   "cell_type": "code",
   "execution_count": 59,
   "metadata": {},
   "outputs": [
    {
     "name": "stdout",
     "output_type": "stream",
     "text": [
      "         x1        x2     y        h1        h2        h3     y_hat       sse  \\\n",
      "0  0.125000  0.750000  0.89  0.607663  0.607663  0.607663  0.713306  0.015610   \n",
      "1  0.250000  0.625000  0.84  0.607663  0.607663  0.607663  0.713306  0.008026   \n",
      "2  0.333333  0.500000  0.79  0.602685  0.602685  0.602685  0.711777  0.003059   \n",
      "3  0.416667  0.333333  0.72  0.592667  0.592667  0.592667  0.708684  0.000064   \n",
      "\n",
      "      delta  \n",
      "0  0.036134  \n",
      "1  0.025909  \n",
      "2  0.016048  \n",
      "3  0.002336  \n",
      "2.4106782776\n",
      "3.24\n",
      "2.84707217613\n",
      "0.0804268932773\n"
     ]
    }
   ],
   "source": [
    "import pandas as pd\n",
    "\n",
    "def sse(x1,x2,w1,w2,y):\n",
    "    y_hat = w1*x1 + w2*x2\n",
    "    print(y_hat)\n",
    "    sse = 0.5 * (y - y_hat) **2\n",
    "    print(sse)\n",
    "\n",
    "df = pd.DataFrame()\n",
    "df['x1'] = x[:,0]\n",
    "df['x2'] = x[:,1]\n",
    "df['y'] = y.flatten()\n",
    "df['h1'] = hidden_output[:,0]\n",
    "df['h2'] = hidden_output[:,1]\n",
    "df['h3'] = hidden_output[:,2]\n",
    "df['y_hat'] = output.flatten()\n",
    "df['sse'] = 0.5 * (df['y'] - df['y_hat']) **2\n",
    "df['delta'] = (df['y'] - df['y_hat']) * sigmoid_prime(df['y_hat']) # 4 X 1\n",
    "#df['Gw7'] = df['delta'] * df['h1']\n",
    "#df['Gw8'] = df['delta'] * df['h2']\n",
    "#df['Gw9'] = df['delta'] * df['h3']\n",
    "print(df)\n",
    "print(df['h1'].sum())\n",
    "print(df['y'].sum())\n",
    "print(df['y_hat'].sum())\n",
    "print(df['delta'].sum())"
   ]
  },
  {
   "cell_type": "code",
   "execution_count": 31,
   "metadata": {},
   "outputs": [
    {
     "name": "stdout",
     "output_type": "stream",
     "text": [
      "0.00525310854144 0.00525310854144 0.00525310854144\n",
      "0.00357471230143 0.00357471230143 0.00357471230143\n",
      "0.00210716972117 0.00210716972117 0.00210716972117\n",
      "0.000285905501693 0.000285905501693 0.000285905501693\n"
     ]
    },
    {
     "data": {
      "text/html": [
       "<div>\n",
       "<style>\n",
       "    .dataframe thead tr:only-child th {\n",
       "        text-align: right;\n",
       "    }\n",
       "\n",
       "    .dataframe thead th {\n",
       "        text-align: left;\n",
       "    }\n",
       "\n",
       "    .dataframe tbody tr th {\n",
       "        vertical-align: top;\n",
       "    }\n",
       "</style>\n",
       "<table border=\"1\" class=\"dataframe\">\n",
       "  <thead>\n",
       "    <tr style=\"text-align: right;\">\n",
       "      <th></th>\n",
       "      <th>hours sleeping</th>\n",
       "      <th>hours studing</th>\n",
       "      <th>final grade</th>\n",
       "      <th>h1</th>\n",
       "      <th>h2</th>\n",
       "      <th>h3</th>\n",
       "      <th>y_hat</th>\n",
       "      <th>SSE</th>\n",
       "      <th>delta</th>\n",
       "      <th>gradient 7</th>\n",
       "      <th>gradient 8</th>\n",
       "      <th>gradient 9</th>\n",
       "      <th>gradient 1</th>\n",
       "      <th>gradient 2</th>\n",
       "      <th>gradient 3</th>\n",
       "      <th>gradient 4</th>\n",
       "      <th>gradient 5</th>\n",
       "      <th>gradient 6</th>\n",
       "    </tr>\n",
       "  </thead>\n",
       "  <tbody>\n",
       "    <tr>\n",
       "      <th>0</th>\n",
       "      <td>0.125000</td>\n",
       "      <td>0.750000</td>\n",
       "      <td>0.89</td>\n",
       "      <td>0.607663</td>\n",
       "      <td>0.607663</td>\n",
       "      <td>0.607663</td>\n",
       "      <td>0.713306</td>\n",
       "      <td>0.015610</td>\n",
       "      <td>0.036134</td>\n",
       "      <td>0.021957</td>\n",
       "      <td>0.021957</td>\n",
       "      <td>0.021957</td>\n",
       "      <td>0.000657</td>\n",
       "      <td>0.003940</td>\n",
       "      <td>0.000657</td>\n",
       "      <td>0.003940</td>\n",
       "      <td>0.000657</td>\n",
       "      <td>0.003940</td>\n",
       "    </tr>\n",
       "    <tr>\n",
       "      <th>1</th>\n",
       "      <td>0.250000</td>\n",
       "      <td>0.625000</td>\n",
       "      <td>0.84</td>\n",
       "      <td>0.607663</td>\n",
       "      <td>0.607663</td>\n",
       "      <td>0.607663</td>\n",
       "      <td>0.713306</td>\n",
       "      <td>0.008026</td>\n",
       "      <td>0.025909</td>\n",
       "      <td>0.015744</td>\n",
       "      <td>0.015744</td>\n",
       "      <td>0.015744</td>\n",
       "      <td>0.000894</td>\n",
       "      <td>0.002234</td>\n",
       "      <td>0.000894</td>\n",
       "      <td>0.002234</td>\n",
       "      <td>0.000894</td>\n",
       "      <td>0.002234</td>\n",
       "    </tr>\n",
       "    <tr>\n",
       "      <th>2</th>\n",
       "      <td>0.333333</td>\n",
       "      <td>0.500000</td>\n",
       "      <td>0.79</td>\n",
       "      <td>0.602685</td>\n",
       "      <td>0.602685</td>\n",
       "      <td>0.602685</td>\n",
       "      <td>0.711777</td>\n",
       "      <td>0.003059</td>\n",
       "      <td>0.016048</td>\n",
       "      <td>0.009672</td>\n",
       "      <td>0.009672</td>\n",
       "      <td>0.009672</td>\n",
       "      <td>0.000702</td>\n",
       "      <td>0.001054</td>\n",
       "      <td>0.000702</td>\n",
       "      <td>0.001054</td>\n",
       "      <td>0.000702</td>\n",
       "      <td>0.001054</td>\n",
       "    </tr>\n",
       "    <tr>\n",
       "      <th>3</th>\n",
       "      <td>0.416667</td>\n",
       "      <td>0.333333</td>\n",
       "      <td>0.72</td>\n",
       "      <td>0.592667</td>\n",
       "      <td>0.592667</td>\n",
       "      <td>0.592667</td>\n",
       "      <td>0.708684</td>\n",
       "      <td>0.000064</td>\n",
       "      <td>0.002336</td>\n",
       "      <td>0.001385</td>\n",
       "      <td>0.001385</td>\n",
       "      <td>0.001385</td>\n",
       "      <td>0.000119</td>\n",
       "      <td>0.000095</td>\n",
       "      <td>0.000119</td>\n",
       "      <td>0.000095</td>\n",
       "      <td>0.000119</td>\n",
       "      <td>0.000095</td>\n",
       "    </tr>\n",
       "  </tbody>\n",
       "</table>\n",
       "</div>"
      ],
      "text/plain": [
       "   hours sleeping  hours studing  final grade        h1        h2        h3  \\\n",
       "0        0.125000       0.750000         0.89  0.607663  0.607663  0.607663   \n",
       "1        0.250000       0.625000         0.84  0.607663  0.607663  0.607663   \n",
       "2        0.333333       0.500000         0.79  0.602685  0.602685  0.602685   \n",
       "3        0.416667       0.333333         0.72  0.592667  0.592667  0.592667   \n",
       "\n",
       "      y_hat       SSE     delta  gradient 7  gradient 8  gradient 9  \\\n",
       "0  0.713306  0.015610  0.036134    0.021957    0.021957    0.021957   \n",
       "1  0.713306  0.008026  0.025909    0.015744    0.015744    0.015744   \n",
       "2  0.711777  0.003059  0.016048    0.009672    0.009672    0.009672   \n",
       "3  0.708684  0.000064  0.002336    0.001385    0.001385    0.001385   \n",
       "\n",
       "   gradient 1  gradient 2  gradient 3  gradient 4  gradient 5  gradient 6  \n",
       "0    0.000657    0.003940    0.000657    0.003940    0.000657    0.003940  \n",
       "1    0.000894    0.002234    0.000894    0.002234    0.000894    0.002234  \n",
       "2    0.000702    0.001054    0.000702    0.001054    0.000702    0.001054  \n",
       "3    0.000119    0.000095    0.000119    0.000095    0.000119    0.000095  "
      ]
     },
     "execution_count": 31,
     "metadata": {},
     "output_type": "execute_result"
    }
   ],
   "source": [
    "import numpy as np\n",
    "import pandas as pd\n",
    "\n",
    "x = np.array(([3, 18], [6, 15], [8, 12], [10,8]), dtype=float) # 4 X 2\n",
    "y = np.array(([89], [84], [79], [72]), dtype=float) # 4 X 1\n",
    "\n",
    "x /= 24\n",
    "y /= 100\n",
    "\n",
    "w1 = np.ones((3,2)) * 0.5  # 3 X 2 --> 3 neurons, each has two inputs\n",
    "w2 = np.ones((1,3)) * 0.5 # 1 X 3 --> single neuron with three inputs\n",
    "\n",
    "h1s, h2s, h3s, y_hats, y_y_hats, sses, deltas, G7s, G8s, G9s = [], [], [], [], [], [], [], [], [], []\n",
    "G1s, G2s, G3s, G4s, G5s, G6s = [], [], [], [], [], []\n",
    "df = pd.DataFrame()\n",
    "\n",
    "for i in range(len(x)):\n",
    "    # ff\n",
    "    h1 = sigmoid( x[i,0] * w1[0,0] + x[i,1] * w1[0,1] )\n",
    "    h1s.append(h1)\n",
    "    h2 = sigmoid( x[i,0] * w1[1,0] + x[i,1] * w1[1,1] )\n",
    "    h2s.append(h2)\n",
    "    h3 = sigmoid( x[i,0] * w1[2,0] + x[i,1] * w1[2,1] )\n",
    "    h3s.append(h3)\n",
    "    y_hat = sigmoid( h1 * w2[0,0] + h2 * w2[0,1] + h1 * w2[0,2] )\n",
    "    y_hats.append(y_hat)\n",
    "    sse = 0.5 * (y[i,0] - y_hat)**2\n",
    "    sses.append(sse)\n",
    "    y_y_hats.append(y[i,0] - y_hat)\n",
    "    # Bp\n",
    "    delta = (y[i,0] - y_hat) * y_hat * (1 - y_hat)\n",
    "    deltas.append(delta)\n",
    "    G7 = delta * h1\n",
    "    G8 = delta * h2\n",
    "    G9 = delta * h3\n",
    "    G7s.append(G7)\n",
    "    G8s.append(G8)\n",
    "    G9s.append(G9)\n",
    "    \n",
    "    ####  update w2 || calculate Gradiends 1 to 9.. whuch is first ???\n",
    "    \n",
    "    #update weights\n",
    "#     w2_new1 = w2[0,0] + 5*G7\n",
    "#     w2_new2 = w2[0,1] + 5*G8\n",
    "#     w2_new3 = w2[0,2] + 5*G9\n",
    "    \n",
    "    delta2 = delta * h1 * (1-h1) * w2_new1\n",
    "    delta3 = delta * h2 * (1-h2) * w2_new2\n",
    "    delta4 = delta * h3 * (1-h3) * w2_new3\n",
    "    print(delta2, delta3, delta4)\n",
    "    G1 = delta2 * x[i,0]\n",
    "    G2 = delta2 * x[i,1]\n",
    "    G3 = delta3 * x[i,0]\n",
    "    G4 = delta3 * x[i,1]\n",
    "    G5 = delta4 * x[i,0]\n",
    "    G6 = delta4 * x[i,1]\n",
    "    G1s.append(G1)\n",
    "    G2s.append(G2)\n",
    "    G3s.append(G3)\n",
    "    G4s.append(G4)\n",
    "    G5s.append(G5)\n",
    "    G6s.append(G6)\n",
    "    \n",
    "\n",
    "df['hours sleeping'] = x[:,0]\n",
    "df['hours studing'] = x[:,1]\n",
    "df['final grade'] = y[:,0]\n",
    "df['h1'] = h1s\n",
    "df['h2'] = h2s\n",
    "df['h3'] = h3s\n",
    "df['y_hat'] = y_hats\n",
    "df['SSE'] = sses\n",
    "df['delta'] = deltas\n",
    "df['gradient 7'] = G7s\n",
    "df['gradient 8'] = G8s\n",
    "df['gradient 9'] = G9s\n",
    "\n",
    "df['gradient 1'] = G1s\n",
    "df['gradient 2'] = G2s\n",
    "df['gradient 3'] = G3s\n",
    "df['gradient 4'] = G4s\n",
    "df['gradient 5'] = G5s\n",
    "df['gradient 6'] = G6s\n",
    "\n",
    "df.head()\n",
    "\n",
    "#print(sum(h1s), sum(h2s), sum(h3s), sum(y_hats), sum(y_y_hats), sum(sses), sum(deltas), sum(G7s), sum(G8s), sum(G9s))\n",
    "#print(h1, h2, h3, y_hat)\n",
    "\n",
    "# Bp\n"
   ]
  },
  {
   "cell_type": "code",
   "execution_count": 17,
   "metadata": {
    "collapsed": true
   },
   "outputs": [],
   "source": [
    "df.to_csv('backpropagation.csv', index=False)"
   ]
  },
  {
   "cell_type": "code",
   "execution_count": 34,
   "metadata": {},
   "outputs": [
    {
     "data": {
      "text/plain": [
       "0.002371833842465075"
      ]
     },
     "execution_count": 34,
     "metadata": {},
     "output_type": "execute_result"
    }
   ],
   "source": [
    "df['gradient 1'].sum()"
   ]
  },
  {
   "cell_type": "code",
   "execution_count": 41,
   "metadata": {},
   "outputs": [
    {
     "data": {
      "text/plain": [
       "0.531075"
      ]
     },
     "execution_count": 41,
     "metadata": {},
     "output_type": "execute_result"
    }
   ],
   "source": [
    "0.5+5*0.006215"
   ]
  }
 ],
 "metadata": {
  "kernelspec": {
   "display_name": "Python 3",
   "language": "python",
   "name": "python3"
  },
  "language_info": {
   "codemirror_mode": {
    "name": "ipython",
    "version": 3
   },
   "file_extension": ".py",
   "mimetype": "text/x-python",
   "name": "python",
   "nbconvert_exporter": "python",
   "pygments_lexer": "ipython3",
   "version": "3.6.3"
  }
 },
 "nbformat": 4,
 "nbformat_minor": 2
}
